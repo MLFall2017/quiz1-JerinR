{
 "cells": [
  {
   "cell_type": "code",
   "execution_count": 130,
   "metadata": {
    "collapsed": true
   },
   "outputs": [],
   "source": [
    "import pandas as pd\n",
    "import numpy as np\n",
    "import matplotlib.pyplot as plt\n",
    "%matplotlib inline"
   ]
  },
  {
   "cell_type": "code",
   "execution_count": 131,
   "metadata": {
    "collapsed": true,
    "scrolled": true
   },
   "outputs": [],
   "source": [
    "dataset = pd.read_csv(\"dataset_1.csv\")"
   ]
  },
  {
   "cell_type": "code",
   "execution_count": 132,
   "metadata": {},
   "outputs": [
    {
     "data": {
      "text/html": [
       "<div>\n",
       "<style>\n",
       "    .dataframe thead tr:only-child th {\n",
       "        text-align: right;\n",
       "    }\n",
       "\n",
       "    .dataframe thead th {\n",
       "        text-align: left;\n",
       "    }\n",
       "\n",
       "    .dataframe tbody tr th {\n",
       "        vertical-align: top;\n",
       "    }\n",
       "</style>\n",
       "<table border=\"1\" class=\"dataframe\">\n",
       "  <thead>\n",
       "    <tr style=\"text-align: right;\">\n",
       "      <th></th>\n",
       "      <th>x</th>\n",
       "      <th>y</th>\n",
       "      <th>z</th>\n",
       "    </tr>\n",
       "  </thead>\n",
       "  <tbody>\n",
       "    <tr>\n",
       "      <th>0</th>\n",
       "      <td>0.084</td>\n",
       "      <td>0.803</td>\n",
       "      <td>0.524</td>\n",
       "    </tr>\n",
       "    <tr>\n",
       "      <th>1</th>\n",
       "      <td>0.311</td>\n",
       "      <td>1.644</td>\n",
       "      <td>0.532</td>\n",
       "    </tr>\n",
       "    <tr>\n",
       "      <th>2</th>\n",
       "      <td>0.549</td>\n",
       "      <td>2.553</td>\n",
       "      <td>0.062</td>\n",
       "    </tr>\n",
       "    <tr>\n",
       "      <th>3</th>\n",
       "      <td>0.249</td>\n",
       "      <td>1.584</td>\n",
       "      <td>0.321</td>\n",
       "    </tr>\n",
       "    <tr>\n",
       "      <th>4</th>\n",
       "      <td>0.366</td>\n",
       "      <td>1.646</td>\n",
       "      <td>0.393</td>\n",
       "    </tr>\n",
       "  </tbody>\n",
       "</table>\n",
       "</div>"
      ],
      "text/plain": [
       "       x      y      z\n",
       "0  0.084  0.803  0.524\n",
       "1  0.311  1.644  0.532\n",
       "2  0.549  2.553  0.062\n",
       "3  0.249  1.584  0.321\n",
       "4  0.366  1.646  0.393"
      ]
     },
     "execution_count": 132,
     "metadata": {},
     "output_type": "execute_result"
    }
   ],
   "source": [
    "dataset.head()"
   ]
  },
  {
   "cell_type": "code",
   "execution_count": 133,
   "metadata": {
    "collapsed": true
   },
   "outputs": [],
   "source": [
    "matrix = dataset.as_matrix()"
   ]
  },
  {
   "cell_type": "code",
   "execution_count": 134,
   "metadata": {},
   "outputs": [
    {
     "data": {
      "text/plain": [
       "array([[ 0.084,  0.803,  0.524],\n",
       "       [ 0.311,  1.644,  0.532],\n",
       "       [ 0.549,  2.553,  0.062],\n",
       "       ..., \n",
       "       [ 0.622,  2.858,  0.852],\n",
       "       [ 0.02 , -0.319,  0.144],\n",
       "       [ 0.76 ,  4.012,  0.353]])"
      ]
     },
     "execution_count": 134,
     "metadata": {},
     "output_type": "execute_result"
    }
   ],
   "source": [
    "matrix"
   ]
  },
  {
   "cell_type": "code",
   "execution_count": 135,
   "metadata": {
    "collapsed": true
   },
   "outputs": [],
   "source": [
    "means = np.mean(dataset, axis=0)"
   ]
  },
  {
   "cell_type": "code",
   "execution_count": 136,
   "metadata": {},
   "outputs": [
    {
     "data": {
      "text/plain": [
       "x    0.503454\n",
       "y    2.511309\n",
       "z    0.509261\n",
       "dtype: float64"
      ]
     },
     "execution_count": 136,
     "metadata": {},
     "output_type": "execute_result"
    }
   ],
   "source": [
    "means"
   ]
  },
  {
   "cell_type": "code",
   "execution_count": 137,
   "metadata": {},
   "outputs": [
    {
     "data": {
      "text/plain": [
       "0.50345399999999985"
      ]
     },
     "execution_count": 137,
     "metadata": {},
     "output_type": "execute_result"
    }
   ],
   "source": [
    "means[0]"
   ]
  },
  {
   "cell_type": "code",
   "execution_count": 138,
   "metadata": {
    "collapsed": true
   },
   "outputs": [],
   "source": [
    "list_x = []\n",
    "list_y = []\n",
    "list_z = []\n",
    "\n",
    "\n",
    "def meancentric(arr):\n",
    "    listA = []\n",
    "    for i in range(len(arr)):\n",
    "        listA.append(arr[i]-means[0])\n",
    "    return listA        "
   ]
  },
  {
   "cell_type": "code",
   "execution_count": 139,
   "metadata": {
    "collapsed": true
   },
   "outputs": [],
   "source": [
    "list_x = meancentric(dataset['x'])\n",
    "list_y = meancentric(dataset['y'])\n",
    "list_z = meancentric(dataset['z'])"
   ]
  },
  {
   "cell_type": "markdown",
   "metadata": {},
   "source": [
    "    Variance of all the variables"
   ]
  },
  {
   "cell_type": "code",
   "execution_count": 174,
   "metadata": {},
   "outputs": [
    {
     "name": "stdout",
     "output_type": "stream",
     "text": [
      "0.080529305884\n",
      "2.09690259152\n",
      "0.080501954879\n"
     ]
    }
   ],
   "source": [
    "var_x = np.var(list_x)\n",
    "print(var_x)\n",
    "var_y = np.var(list_y)\n",
    "print(var_y)\n",
    "var_z = np.var(list_z)\n",
    "print(var_z)"
   ]
  },
  {
   "cell_type": "code",
   "execution_count": 140,
   "metadata": {
    "collapsed": true
   },
   "outputs": [],
   "source": [
    "dataset_1 = pd.DataFrame(columns=['x','y','z'])"
   ]
  },
  {
   "cell_type": "code",
   "execution_count": 141,
   "metadata": {
    "collapsed": true
   },
   "outputs": [],
   "source": [
    "dataset_1['x'] = list_x\n",
    "dataset_1['y'] = list_y\n",
    "dataset_1['z'] = list_z"
   ]
  },
  {
   "cell_type": "code",
   "execution_count": 142,
   "metadata": {
    "scrolled": true
   },
   "outputs": [
    {
     "data": {
      "text/html": [
       "<div>\n",
       "<style>\n",
       "    .dataframe thead tr:only-child th {\n",
       "        text-align: right;\n",
       "    }\n",
       "\n",
       "    .dataframe thead th {\n",
       "        text-align: left;\n",
       "    }\n",
       "\n",
       "    .dataframe tbody tr th {\n",
       "        vertical-align: top;\n",
       "    }\n",
       "</style>\n",
       "<table border=\"1\" class=\"dataframe\">\n",
       "  <thead>\n",
       "    <tr style=\"text-align: right;\">\n",
       "      <th></th>\n",
       "      <th>x</th>\n",
       "      <th>y</th>\n",
       "      <th>z</th>\n",
       "    </tr>\n",
       "  </thead>\n",
       "  <tbody>\n",
       "    <tr>\n",
       "      <th>0</th>\n",
       "      <td>-0.419454</td>\n",
       "      <td>0.299546</td>\n",
       "      <td>0.020546</td>\n",
       "    </tr>\n",
       "    <tr>\n",
       "      <th>1</th>\n",
       "      <td>-0.192454</td>\n",
       "      <td>1.140546</td>\n",
       "      <td>0.028546</td>\n",
       "    </tr>\n",
       "    <tr>\n",
       "      <th>2</th>\n",
       "      <td>0.045546</td>\n",
       "      <td>2.049546</td>\n",
       "      <td>-0.441454</td>\n",
       "    </tr>\n",
       "    <tr>\n",
       "      <th>3</th>\n",
       "      <td>-0.254454</td>\n",
       "      <td>1.080546</td>\n",
       "      <td>-0.182454</td>\n",
       "    </tr>\n",
       "    <tr>\n",
       "      <th>4</th>\n",
       "      <td>-0.137454</td>\n",
       "      <td>1.142546</td>\n",
       "      <td>-0.110454</td>\n",
       "    </tr>\n",
       "    <tr>\n",
       "      <th>5</th>\n",
       "      <td>0.058546</td>\n",
       "      <td>1.999546</td>\n",
       "      <td>0.018546</td>\n",
       "    </tr>\n",
       "    <tr>\n",
       "      <th>6</th>\n",
       "      <td>-0.489454</td>\n",
       "      <td>-0.635454</td>\n",
       "      <td>0.024546</td>\n",
       "    </tr>\n",
       "    <tr>\n",
       "      <th>7</th>\n",
       "      <td>0.106546</td>\n",
       "      <td>2.344546</td>\n",
       "      <td>0.264546</td>\n",
       "    </tr>\n",
       "    <tr>\n",
       "      <th>8</th>\n",
       "      <td>-0.235454</td>\n",
       "      <td>0.727546</td>\n",
       "      <td>0.452546</td>\n",
       "    </tr>\n",
       "    <tr>\n",
       "      <th>9</th>\n",
       "      <td>-0.329454</td>\n",
       "      <td>0.390546</td>\n",
       "      <td>0.432546</td>\n",
       "    </tr>\n",
       "    <tr>\n",
       "      <th>10</th>\n",
       "      <td>0.123546</td>\n",
       "      <td>2.210546</td>\n",
       "      <td>-0.336454</td>\n",
       "    </tr>\n",
       "    <tr>\n",
       "      <th>11</th>\n",
       "      <td>0.389546</td>\n",
       "      <td>3.687546</td>\n",
       "      <td>-0.280454</td>\n",
       "    </tr>\n",
       "    <tr>\n",
       "      <th>12</th>\n",
       "      <td>0.374546</td>\n",
       "      <td>4.128546</td>\n",
       "      <td>0.493546</td>\n",
       "    </tr>\n",
       "    <tr>\n",
       "      <th>13</th>\n",
       "      <td>0.229546</td>\n",
       "      <td>3.405546</td>\n",
       "      <td>0.171546</td>\n",
       "    </tr>\n",
       "    <tr>\n",
       "      <th>14</th>\n",
       "      <td>-0.448454</td>\n",
       "      <td>-0.641454</td>\n",
       "      <td>0.097546</td>\n",
       "    </tr>\n",
       "    <tr>\n",
       "      <th>15</th>\n",
       "      <td>-0.075454</td>\n",
       "      <td>1.594546</td>\n",
       "      <td>-0.272454</td>\n",
       "    </tr>\n",
       "    <tr>\n",
       "      <th>16</th>\n",
       "      <td>-0.375454</td>\n",
       "      <td>0.564546</td>\n",
       "      <td>0.462546</td>\n",
       "    </tr>\n",
       "    <tr>\n",
       "      <th>17</th>\n",
       "      <td>0.339546</td>\n",
       "      <td>3.503546</td>\n",
       "      <td>-0.297454</td>\n",
       "    </tr>\n",
       "    <tr>\n",
       "      <th>18</th>\n",
       "      <td>0.466546</td>\n",
       "      <td>4.149546</td>\n",
       "      <td>0.304546</td>\n",
       "    </tr>\n",
       "    <tr>\n",
       "      <th>19</th>\n",
       "      <td>-0.034454</td>\n",
       "      <td>1.720546</td>\n",
       "      <td>0.138546</td>\n",
       "    </tr>\n",
       "    <tr>\n",
       "      <th>20</th>\n",
       "      <td>-0.237454</td>\n",
       "      <td>0.452546</td>\n",
       "      <td>0.008546</td>\n",
       "    </tr>\n",
       "    <tr>\n",
       "      <th>21</th>\n",
       "      <td>-0.166454</td>\n",
       "      <td>0.949546</td>\n",
       "      <td>0.485546</td>\n",
       "    </tr>\n",
       "    <tr>\n",
       "      <th>22</th>\n",
       "      <td>-0.358454</td>\n",
       "      <td>0.610546</td>\n",
       "      <td>0.409546</td>\n",
       "    </tr>\n",
       "    <tr>\n",
       "      <th>23</th>\n",
       "      <td>0.364546</td>\n",
       "      <td>4.151546</td>\n",
       "      <td>-0.005454</td>\n",
       "    </tr>\n",
       "    <tr>\n",
       "      <th>24</th>\n",
       "      <td>-0.288454</td>\n",
       "      <td>0.391546</td>\n",
       "      <td>0.403546</td>\n",
       "    </tr>\n",
       "    <tr>\n",
       "      <th>25</th>\n",
       "      <td>0.271546</td>\n",
       "      <td>3.314546</td>\n",
       "      <td>-0.158454</td>\n",
       "    </tr>\n",
       "    <tr>\n",
       "      <th>26</th>\n",
       "      <td>-0.135454</td>\n",
       "      <td>1.423546</td>\n",
       "      <td>0.150546</td>\n",
       "    </tr>\n",
       "    <tr>\n",
       "      <th>27</th>\n",
       "      <td>-0.015454</td>\n",
       "      <td>1.895546</td>\n",
       "      <td>0.323546</td>\n",
       "    </tr>\n",
       "    <tr>\n",
       "      <th>28</th>\n",
       "      <td>0.003546</td>\n",
       "      <td>1.863546</td>\n",
       "      <td>-0.236454</td>\n",
       "    </tr>\n",
       "    <tr>\n",
       "      <th>29</th>\n",
       "      <td>0.299546</td>\n",
       "      <td>3.782546</td>\n",
       "      <td>0.159546</td>\n",
       "    </tr>\n",
       "    <tr>\n",
       "      <th>...</th>\n",
       "      <td>...</td>\n",
       "      <td>...</td>\n",
       "      <td>...</td>\n",
       "    </tr>\n",
       "    <tr>\n",
       "      <th>970</th>\n",
       "      <td>0.238546</td>\n",
       "      <td>3.236546</td>\n",
       "      <td>0.146546</td>\n",
       "    </tr>\n",
       "    <tr>\n",
       "      <th>971</th>\n",
       "      <td>-0.456454</td>\n",
       "      <td>-0.536454</td>\n",
       "      <td>-0.221454</td>\n",
       "    </tr>\n",
       "    <tr>\n",
       "      <th>972</th>\n",
       "      <td>-0.136454</td>\n",
       "      <td>1.244546</td>\n",
       "      <td>-0.111454</td>\n",
       "    </tr>\n",
       "    <tr>\n",
       "      <th>973</th>\n",
       "      <td>0.078546</td>\n",
       "      <td>2.541546</td>\n",
       "      <td>-0.033454</td>\n",
       "    </tr>\n",
       "    <tr>\n",
       "      <th>974</th>\n",
       "      <td>0.177546</td>\n",
       "      <td>3.611546</td>\n",
       "      <td>-0.343454</td>\n",
       "    </tr>\n",
       "    <tr>\n",
       "      <th>975</th>\n",
       "      <td>0.159546</td>\n",
       "      <td>3.070546</td>\n",
       "      <td>-0.333454</td>\n",
       "    </tr>\n",
       "    <tr>\n",
       "      <th>976</th>\n",
       "      <td>0.239546</td>\n",
       "      <td>2.956546</td>\n",
       "      <td>-0.127454</td>\n",
       "    </tr>\n",
       "    <tr>\n",
       "      <th>977</th>\n",
       "      <td>-0.496454</td>\n",
       "      <td>0.167546</td>\n",
       "      <td>0.223546</td>\n",
       "    </tr>\n",
       "    <tr>\n",
       "      <th>978</th>\n",
       "      <td>0.054546</td>\n",
       "      <td>2.741546</td>\n",
       "      <td>-0.449454</td>\n",
       "    </tr>\n",
       "    <tr>\n",
       "      <th>979</th>\n",
       "      <td>0.046546</td>\n",
       "      <td>2.426546</td>\n",
       "      <td>0.268546</td>\n",
       "    </tr>\n",
       "    <tr>\n",
       "      <th>980</th>\n",
       "      <td>0.392546</td>\n",
       "      <td>4.228546</td>\n",
       "      <td>-0.119454</td>\n",
       "    </tr>\n",
       "    <tr>\n",
       "      <th>981</th>\n",
       "      <td>-0.390454</td>\n",
       "      <td>0.058546</td>\n",
       "      <td>-0.439454</td>\n",
       "    </tr>\n",
       "    <tr>\n",
       "      <th>982</th>\n",
       "      <td>-0.399454</td>\n",
       "      <td>0.600546</td>\n",
       "      <td>0.413546</td>\n",
       "    </tr>\n",
       "    <tr>\n",
       "      <th>983</th>\n",
       "      <td>-0.305454</td>\n",
       "      <td>0.746546</td>\n",
       "      <td>-0.075454</td>\n",
       "    </tr>\n",
       "    <tr>\n",
       "      <th>984</th>\n",
       "      <td>0.112546</td>\n",
       "      <td>2.259546</td>\n",
       "      <td>-0.364454</td>\n",
       "    </tr>\n",
       "    <tr>\n",
       "      <th>985</th>\n",
       "      <td>0.389546</td>\n",
       "      <td>4.229546</td>\n",
       "      <td>0.209546</td>\n",
       "    </tr>\n",
       "    <tr>\n",
       "      <th>986</th>\n",
       "      <td>0.459546</td>\n",
       "      <td>4.521546</td>\n",
       "      <td>-0.380454</td>\n",
       "    </tr>\n",
       "    <tr>\n",
       "      <th>987</th>\n",
       "      <td>-0.182454</td>\n",
       "      <td>0.938546</td>\n",
       "      <td>-0.483454</td>\n",
       "    </tr>\n",
       "    <tr>\n",
       "      <th>988</th>\n",
       "      <td>0.104546</td>\n",
       "      <td>2.534546</td>\n",
       "      <td>-0.281454</td>\n",
       "    </tr>\n",
       "    <tr>\n",
       "      <th>989</th>\n",
       "      <td>-0.133454</td>\n",
       "      <td>2.081546</td>\n",
       "      <td>0.456546</td>\n",
       "    </tr>\n",
       "    <tr>\n",
       "      <th>990</th>\n",
       "      <td>-0.004454</td>\n",
       "      <td>2.063546</td>\n",
       "      <td>0.440546</td>\n",
       "    </tr>\n",
       "    <tr>\n",
       "      <th>991</th>\n",
       "      <td>0.119546</td>\n",
       "      <td>2.540546</td>\n",
       "      <td>-0.122454</td>\n",
       "    </tr>\n",
       "    <tr>\n",
       "      <th>992</th>\n",
       "      <td>0.446546</td>\n",
       "      <td>4.269546</td>\n",
       "      <td>-0.329454</td>\n",
       "    </tr>\n",
       "    <tr>\n",
       "      <th>993</th>\n",
       "      <td>0.276546</td>\n",
       "      <td>3.552546</td>\n",
       "      <td>0.395546</td>\n",
       "    </tr>\n",
       "    <tr>\n",
       "      <th>994</th>\n",
       "      <td>0.447546</td>\n",
       "      <td>4.387546</td>\n",
       "      <td>-0.299454</td>\n",
       "    </tr>\n",
       "    <tr>\n",
       "      <th>995</th>\n",
       "      <td>0.342546</td>\n",
       "      <td>3.538546</td>\n",
       "      <td>0.368546</td>\n",
       "    </tr>\n",
       "    <tr>\n",
       "      <th>996</th>\n",
       "      <td>0.465546</td>\n",
       "      <td>4.082546</td>\n",
       "      <td>-0.227454</td>\n",
       "    </tr>\n",
       "    <tr>\n",
       "      <th>997</th>\n",
       "      <td>0.118546</td>\n",
       "      <td>2.354546</td>\n",
       "      <td>0.348546</td>\n",
       "    </tr>\n",
       "    <tr>\n",
       "      <th>998</th>\n",
       "      <td>-0.483454</td>\n",
       "      <td>-0.822454</td>\n",
       "      <td>-0.359454</td>\n",
       "    </tr>\n",
       "    <tr>\n",
       "      <th>999</th>\n",
       "      <td>0.256546</td>\n",
       "      <td>3.508546</td>\n",
       "      <td>-0.150454</td>\n",
       "    </tr>\n",
       "  </tbody>\n",
       "</table>\n",
       "<p>1000 rows × 3 columns</p>\n",
       "</div>"
      ],
      "text/plain": [
       "            x         y         z\n",
       "0   -0.419454  0.299546  0.020546\n",
       "1   -0.192454  1.140546  0.028546\n",
       "2    0.045546  2.049546 -0.441454\n",
       "3   -0.254454  1.080546 -0.182454\n",
       "4   -0.137454  1.142546 -0.110454\n",
       "5    0.058546  1.999546  0.018546\n",
       "6   -0.489454 -0.635454  0.024546\n",
       "7    0.106546  2.344546  0.264546\n",
       "8   -0.235454  0.727546  0.452546\n",
       "9   -0.329454  0.390546  0.432546\n",
       "10   0.123546  2.210546 -0.336454\n",
       "11   0.389546  3.687546 -0.280454\n",
       "12   0.374546  4.128546  0.493546\n",
       "13   0.229546  3.405546  0.171546\n",
       "14  -0.448454 -0.641454  0.097546\n",
       "15  -0.075454  1.594546 -0.272454\n",
       "16  -0.375454  0.564546  0.462546\n",
       "17   0.339546  3.503546 -0.297454\n",
       "18   0.466546  4.149546  0.304546\n",
       "19  -0.034454  1.720546  0.138546\n",
       "20  -0.237454  0.452546  0.008546\n",
       "21  -0.166454  0.949546  0.485546\n",
       "22  -0.358454  0.610546  0.409546\n",
       "23   0.364546  4.151546 -0.005454\n",
       "24  -0.288454  0.391546  0.403546\n",
       "25   0.271546  3.314546 -0.158454\n",
       "26  -0.135454  1.423546  0.150546\n",
       "27  -0.015454  1.895546  0.323546\n",
       "28   0.003546  1.863546 -0.236454\n",
       "29   0.299546  3.782546  0.159546\n",
       "..        ...       ...       ...\n",
       "970  0.238546  3.236546  0.146546\n",
       "971 -0.456454 -0.536454 -0.221454\n",
       "972 -0.136454  1.244546 -0.111454\n",
       "973  0.078546  2.541546 -0.033454\n",
       "974  0.177546  3.611546 -0.343454\n",
       "975  0.159546  3.070546 -0.333454\n",
       "976  0.239546  2.956546 -0.127454\n",
       "977 -0.496454  0.167546  0.223546\n",
       "978  0.054546  2.741546 -0.449454\n",
       "979  0.046546  2.426546  0.268546\n",
       "980  0.392546  4.228546 -0.119454\n",
       "981 -0.390454  0.058546 -0.439454\n",
       "982 -0.399454  0.600546  0.413546\n",
       "983 -0.305454  0.746546 -0.075454\n",
       "984  0.112546  2.259546 -0.364454\n",
       "985  0.389546  4.229546  0.209546\n",
       "986  0.459546  4.521546 -0.380454\n",
       "987 -0.182454  0.938546 -0.483454\n",
       "988  0.104546  2.534546 -0.281454\n",
       "989 -0.133454  2.081546  0.456546\n",
       "990 -0.004454  2.063546  0.440546\n",
       "991  0.119546  2.540546 -0.122454\n",
       "992  0.446546  4.269546 -0.329454\n",
       "993  0.276546  3.552546  0.395546\n",
       "994  0.447546  4.387546 -0.299454\n",
       "995  0.342546  3.538546  0.368546\n",
       "996  0.465546  4.082546 -0.227454\n",
       "997  0.118546  2.354546  0.348546\n",
       "998 -0.483454 -0.822454 -0.359454\n",
       "999  0.256546  3.508546 -0.150454\n",
       "\n",
       "[1000 rows x 3 columns]"
      ]
     },
     "execution_count": 142,
     "metadata": {},
     "output_type": "execute_result"
    }
   ],
   "source": [
    "dataset_1"
   ]
  },
  {
   "cell_type": "code",
   "execution_count": 143,
   "metadata": {},
   "outputs": [
    {
     "data": {
      "text/plain": [
       "(1000, 3)"
      ]
     },
     "execution_count": 143,
     "metadata": {},
     "output_type": "execute_result"
    }
   ],
   "source": [
    "dataset_1.shape"
   ]
  },
  {
   "cell_type": "code",
   "execution_count": 144,
   "metadata": {
    "collapsed": true
   },
   "outputs": [],
   "source": [
    "meanCentric_matrix = dataset_1.as_matrix()"
   ]
  },
  {
   "cell_type": "code",
   "execution_count": 145,
   "metadata": {
    "scrolled": true
   },
   "outputs": [
    {
     "data": {
      "text/plain": [
       "array([[-0.419454,  0.299546,  0.020546],\n",
       "       [-0.192454,  1.140546,  0.028546],\n",
       "       [ 0.045546,  2.049546, -0.441454],\n",
       "       ..., \n",
       "       [ 0.118546,  2.354546,  0.348546],\n",
       "       [-0.483454, -0.822454, -0.359454],\n",
       "       [ 0.256546,  3.508546, -0.150454]])"
      ]
     },
     "execution_count": 145,
     "metadata": {},
     "output_type": "execute_result"
    }
   ],
   "source": [
    "meanCentric_matrix"
   ]
  },
  {
   "cell_type": "code",
   "execution_count": 146,
   "metadata": {},
   "outputs": [
    {
     "data": {
      "text/plain": [
       "(1000, 3)"
      ]
     },
     "execution_count": 146,
     "metadata": {},
     "output_type": "execute_result"
    }
   ],
   "source": [
    "meanCentric_matrix.shape"
   ]
  },
  {
   "cell_type": "code",
   "execution_count": 147,
   "metadata": {
    "collapsed": true
   },
   "outputs": [],
   "source": [
    "cov = np.cov(meanCentric_matrix.T)"
   ]
  },
  {
   "cell_type": "code",
   "execution_count": 148,
   "metadata": {},
   "outputs": [
    {
     "data": {
      "text/plain": [
       "array([[ 0.08060992,  0.40242878, -0.0025104 ],\n",
       "       [ 0.40242878,  2.09900159, -0.01439466],\n",
       "       [-0.0025104 , -0.01439466,  0.08058254]])"
      ]
     },
     "execution_count": 148,
     "metadata": {},
     "output_type": "execute_result"
    }
   ],
   "source": [
    "cov"
   ]
  },
  {
   "cell_type": "code",
   "execution_count": 149,
   "metadata": {
    "collapsed": true
   },
   "outputs": [],
   "source": [
    "w,v = np.linalg.eig(cov)"
   ]
  },
  {
   "cell_type": "code",
   "execution_count": 150,
   "metadata": {
    "scrolled": true
   },
   "outputs": [
    {
     "data": {
      "text/plain": [
       "array([ 2.17638133,  0.00333122,  0.0804815 ])"
      ]
     },
     "execution_count": 150,
     "metadata": {},
     "output_type": "execute_result"
    }
   ],
   "source": [
    "w"
   ]
  },
  {
   "cell_type": "code",
   "execution_count": 151,
   "metadata": {},
   "outputs": [
    {
     "data": {
      "text/plain": [
       "array([[ 0.18857784,  0.982048  ,  0.00448705],\n",
       "       [ 0.98203351, -0.18860355,  0.00623651],\n",
       "       [-0.00697082, -0.00323037,  0.99997049]])"
      ]
     },
     "execution_count": 151,
     "metadata": {},
     "output_type": "execute_result"
    }
   ],
   "source": [
    "v"
   ]
  },
  {
   "cell_type": "code",
   "execution_count": 152,
   "metadata": {
    "collapsed": true
   },
   "outputs": [],
   "source": [
    "y1 = np.dot(cov,v[:,0])"
   ]
  },
  {
   "cell_type": "code",
   "execution_count": 153,
   "metadata": {},
   "outputs": [
    {
     "data": {
      "text/plain": [
       "array([ 0.41041729,  2.13727938, -0.01517117])"
      ]
     },
     "execution_count": 153,
     "metadata": {},
     "output_type": "execute_result"
    }
   ],
   "source": [
    "y1"
   ]
  },
  {
   "cell_type": "code",
   "execution_count": 154,
   "metadata": {},
   "outputs": [
    {
     "data": {
      "text/plain": [
       "(3,)"
      ]
     },
     "execution_count": 154,
     "metadata": {},
     "output_type": "execute_result"
    }
   ],
   "source": [
    "y1.shape"
   ]
  },
  {
   "cell_type": "code",
   "execution_count": 155,
   "metadata": {
    "collapsed": true
   },
   "outputs": [],
   "source": [
    "y2 = np.dot(cov,v[:,1])"
   ]
  },
  {
   "cell_type": "code",
   "execution_count": 156,
   "metadata": {},
   "outputs": [
    {
     "data": {
      "text/plain": [
       "<matplotlib.collections.PathCollection at 0xb1bb8d0>"
      ]
     },
     "execution_count": 156,
     "metadata": {},
     "output_type": "execute_result"
    },
    {
     "data": {
      "image/png": "[encoded data removed]",
      "text/plain": [
       "<matplotlib.figure.Figure at 0xb1626b0>"
      ]
     },
     "metadata": {},
     "output_type": "display_data"
    }
   ],
   "source": [
    "y1 = np.cov()"
   ]
  },
  {
   "cell_type": "code",
   "execution_count": 157,
   "metadata": {},
   "outputs": [
    {
     "data": {
      "image/png": "[encoded data removed]",
      "text/plain": [
       "<matplotlib.figure.Figure at 0xb19bcb0>"
      ]
     },
     "metadata": {},
     "output_type": "display_data"
    }
   ],
   "source": [
    "fig = plt.figure()\n",
    "ax   =  fig.add_subplot(1,1,1)\n",
    "ax.scatter(range(len(y2)), y2,   color='blue', s=4)\n",
    "plt.show()"
   ]
  },
  {
   "cell_type": "code",
   "execution_count": 158,
   "metadata": {},
   "outputs": [
    {
     "data": {
      "image/png": "[encoded data removed]",
      "text/plain": [
       "<matplotlib.figure.Figure at 0xaf2ab90>"
      ]
     },
     "metadata": {},
     "output_type": "display_data"
    }
   ],
   "source": [
    "fig = plt.figure()\n",
    "ax   =  fig.add_subplot(1,1,1)\n",
    "ax.scatter(y1, y2,   color='blue', s=4)\n",
    "plt.show()"
   ]
  },
  {
   "cell_type": "code",
   "execution_count": 166,
   "metadata": {},
   "outputs": [],
   "source": [
    "y3 = np.dot(cov,v[:,2])"
   ]
  },
  {
   "cell_type": "code",
   "execution_count": 168,
   "metadata": {
    "collapsed": true
   },
   "outputs": [],
   "source": [
    "y_1 = pd.DataFrame(columns=['y1','y2','y3'])"
   ]
  },
  {
   "cell_type": "code",
   "execution_count": 169,
   "metadata": {
    "collapsed": true
   },
   "outputs": [],
   "source": [
    "y_1['y1'] = y1\n",
    "y_1['y2'] = y2\n",
    "y_1['y3'] = y3"
   ]
  },
  {
   "cell_type": "code",
   "execution_count": 170,
   "metadata": {
    "collapsed": true
   },
   "outputs": [],
   "source": [
    "covY = np.cov(y_1)"
   ]
  },
  {
   "cell_type": "code",
   "execution_count": 171,
   "metadata": {},
   "outputs": [
    {
     "data": {
      "text/plain": [
       "array([[ 0.05565371,  0.29110596, -0.00760479],\n",
       "       [ 0.29110596,  1.52274473, -0.03945066],\n",
       "       [-0.00760479, -0.03945066,  0.00264291]])"
      ]
     },
     "execution_count": 171,
     "metadata": {},
     "output_type": "execute_result"
    }
   ],
   "source": [
    "covY"
   ]
  },
  {
   "cell_type": "markdown",
   "metadata": {},
   "source": [
    "    Covariance of x and y"
   ]
  },
  {
   "cell_type": "code",
   "execution_count": 177,
   "metadata": {},
   "outputs": [
    {
     "name": "stdout",
     "output_type": "stream",
     "text": [
      "[[ 0.08060992  0.40242878]\n",
      " [ 0.40242878  2.09900159]]\n"
     ]
    }
   ],
   "source": [
    "covXY = np.cov(dataset['x'],dataset['y'])\n",
    "print(covXY)"
   ]
  },
  {
   "cell_type": "code",
   "execution_count": 178,
   "metadata": {},
   "outputs": [
    {
     "name": "stdout",
     "output_type": "stream",
     "text": [
      "[[ 2.09900159 -0.01439466]\n",
      " [-0.01439466  0.08058254]]\n"
     ]
    }
   ],
   "source": [
    "covYZ = np.cov(dataset['y'],dataset['z'])\n",
    "print(covYZ)"
   ]
  }
 ],
 "metadata": {
  "kernelspec": {
   "display_name": "Python 3",
   "language": "python",
   "name": "python3"
  },
  "language_info": {
   "codemirror_mode": {
    "name": "ipython",
    "version": 3
   },
   "file_extension": ".py",
   "mimetype": "text/x-python",
   "name": "python",
   "nbconvert_exporter": "python",
   "pygments_lexer": "ipython3",
   "version": "3.6.1"
  }
 },
 "nbformat": 4,
 "nbformat_minor": 2
}
